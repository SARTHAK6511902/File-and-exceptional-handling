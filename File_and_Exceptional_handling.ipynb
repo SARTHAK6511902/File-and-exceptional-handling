{
  "nbformat": 4,
  "nbformat_minor": 0,
  "metadata": {
    "colab": {
      "provenance": []
    },
    "kernelspec": {
      "name": "python3",
      "display_name": "Python 3"
    },
    "language_info": {
      "name": "python"
    }
  },
  "cells": [
    {
      "cell_type": "markdown",
      "source": [
        "#Theoritical Questions"
      ],
      "metadata": {
        "id": "m50N_LMi8Uxx"
      }
    },
    {
      "cell_type": "markdown",
      "source": [
        "1. What is the difference between interpreted and compiled languages?\n",
        "\n",
        "-> The difference between interpreted and compiled languages comes down to how your code gets translated into machine code (the 1s and 0s your CPU understands) and when that translation happens."
      ],
      "metadata": {
        "id": "BASMrMrH8aoH"
      }
    },
    {
      "cell_type": "markdown",
      "source": [
        "2. What is exception handling in Python?\n",
        "\n",
        "->Exception handling in Python is a way to deal with errors gracefully so your program doesn’t just crash when something unexpected happens.\n",
        "\n",
        "Instead of stopping abruptly when an error occurs, Python lets you catch and handle these errors, so your program can either fix the issue, show a user-friendly message, or continue running."
      ],
      "metadata": {
        "id": "yd1IP1nbBQBg"
      }
    },
    {
      "cell_type": "markdown",
      "source": [
        "3. What is the purpose of the finally block in exception handling?\n",
        "\n",
        "-> The main goal is to ensure cleanup actions are always performed.\n",
        "Examples of cleanup tasks:\n",
        "\n",
        "i. Closing a file\n",
        "\n",
        "ii. Releasing a database connection\n",
        "\n",
        "iii. Ending a network session\n",
        "\n",
        "iv. Releasing system resources (locks, memory, etc.)"
      ],
      "metadata": {
        "id": "RZDJnkfUEZAW"
      }
    },
    {
      "cell_type": "markdown",
      "source": [
        "4. What is logging in Python?\n",
        "\n",
        "-> Logging in Python is the process of recording messages about what your program is doing while it runs — especially for tracking events, debugging, and monitoring.\n",
        "\n",
        "Instead of using print() for debugging, Python's logging module gives us a flexible way to:\n",
        "\n",
        "i. Save messages to files\n",
        "\n",
        "ii. Show different severity levels\n",
        "\n",
        "iii. Control formatting and output location\n",
        "\n",
        "iv. Keep logs for later analysis"
      ],
      "metadata": {
        "id": "yJQUM9GHEtwt"
      }
    },
    {
      "cell_type": "markdown",
      "source": [
        "5.  What is the significance of the __del__ method in Python?\n",
        "\n",
        "-> In Python, the __del__ method is a destructor — a special method that is automatically called when an object is about to be destroyed (i.e., when it’s garbage collected).\n",
        "\n",
        "Its main role is to let you perform cleanup actions before the object’s memory is freed."
      ],
      "metadata": {
        "id": "aUIGL4OcGunm"
      }
    },
    {
      "cell_type": "markdown",
      "source": [
        "6. What is the difference between import and from ... import in Python?\n",
        "\n",
        "->The difference between import and from ... import in Python is about how you bring code from another module into your current namespace.\n",
        "\n",
        "**import:**\n",
        "\n",
        "i. Brings in the whole module.\n",
        "\n",
        "ii. You must use the module name (prefix) to access its contents.\n",
        "\n",
        "**from ... import:**\n",
        "\n",
        "i. Brings in specific functions, classes, or variables from a module directly into your namespace.\n",
        "\n",
        "ii. You can use them without a module prefix."
      ],
      "metadata": {
        "id": "LzDUN6bhHtc1"
      }
    },
    {
      "cell_type": "markdown",
      "source": [
        "7. How can you handle multiple exceptions in Python?\n",
        "\n",
        "-> In Python, you can handle multiple exceptions so your program can respond differently depending on the error type."
      ],
      "metadata": {
        "id": "50On-gdBIj6m"
      }
    },
    {
      "cell_type": "markdown",
      "source": [
        "8.  What is the purpose of the with statement when handling files in Python?\n",
        "\n",
        "-> The with statement in Python is used to simplify resource management — especially when working with files — by automatically handling setup and cleanup for us.\n",
        "\n",
        "When we use with to open a file:\n",
        "\n",
        "Python automatically closes the file when the block ends,\n",
        "even if an exception occurs inside the block.\n",
        "\n",
        "This prevents resource leaks and avoids having to manually call file.close()"
      ],
      "metadata": {
        "id": "huB7CYwxLBp8"
      }
    },
    {
      "cell_type": "markdown",
      "source": [
        "9.  What is the difference between multithreading and multiprocessing?\n",
        "\n",
        "->**Multithreading**\n",
        "\n",
        "Definition: Runs multiple threads (lightweight processes) within the same process.\n",
        "\n",
        "Execution: Threads share the same memory space.\n",
        "\n",
        "In Python: The GIL (Global Interpreter Lock) means only one thread runs Python bytecode at a time — so it’s best for I/O-bound tasks (waiting for files, network, etc.), not heavy CPU work.\n",
        "\n",
        "**Multiprocessing**\n",
        "\n",
        "Definition: Runs multiple processes, each with its own Python interpreter and separate memory space.\n",
        "\n",
        "Execution: Can fully use multiple CPU cores (no GIL problem).\n",
        "\n",
        "Best for: CPU-bound tasks (math-heavy computations, data processing)."
      ],
      "metadata": {
        "id": "YH5Uz1uOLSF8"
      }
    },
    {
      "cell_type": "markdown",
      "source": [
        "10.What are the advantages of using logging in a program?\n",
        "\n",
        "-> Here are the key advantages of using logging in a program:\n",
        "\n",
        "i. Permanent record of events.\n",
        "ii. Severe levels of bitter filtering\n",
        "iii. Flexible output destination\n",
        "iv. Easier debugging and monitoring\n",
        "v. safe for multi threading and multi processing."
      ],
      "metadata": {
        "id": "bhIFcfeSLzDq"
      }
    },
    {
      "cell_type": "markdown",
      "source": [
        "11.  What is memory management in Python?\n",
        "\n",
        "-> Memory management in Python is the process of allocating, using, and freeing memory for your program’s objects and data — handled mostly automatically by Python’s built-in system.\n",
        "\n",
        "Python uses:\n",
        "\n",
        "Private heap memory → where all Python objects and data structures live.\n",
        "\n",
        "Automatic garbage collection → to reclaim unused memory."
      ],
      "metadata": {
        "id": "pwL9O9IsOD8x"
      }
    },
    {
      "cell_type": "markdown",
      "source": [
        "12.  What are the basic steps involved in exception handling in Python?\n",
        "\n",
        "-> The basic steps in exception handling in Python follow a clear flow using try, except, else, and finally blocks."
      ],
      "metadata": {
        "id": "rff5fUS_Opgx"
      }
    },
    {
      "cell_type": "markdown",
      "source": [
        "13. Why is memory management important in Python?\n",
        "\n",
        "-> Memory management is important in Python because it directly affects your program’s performance, stability, and scalability.\n",
        "\n",
        "Even though Python handles memory automatically, understanding and respecting how it works prevents issues like slow performance, excessive RAM usage, or memory leaks."
      ],
      "metadata": {
        "id": "fGdMFScvPa2o"
      }
    },
    {
      "cell_type": "markdown",
      "source": [
        "14.  What is the role of try and except in exception handling?\n",
        "\n",
        "-> **try block – \"Risky Code\"**\n",
        "\n",
        "i. Contains the code that might raise an exception.\n",
        "\n",
        "ii. Python executes it line by line until:\n",
        "\n",
        "iii. It finishes without errors → except is skipped.\n",
        "\n",
        "iv. An error occurs → jumps immediately to the matching except block.\n",
        "\n",
        "**except block – \"Error Handler\"**\n",
        "\n",
        "i. Runs only if an exception happens in the try block.\n",
        "\n",
        "ii. Can handle specific error types or multiple types.\n",
        "\n",
        "iii. Prevents the program from stopping abruptly."
      ],
      "metadata": {
        "id": "v5M9bs_xQQPm"
      }
    },
    {
      "cell_type": "markdown",
      "source": [
        "15.  How does Python's garbage collection system work?\n",
        "\n",
        "-> Python’s garbage collection (GC) system automatically frees up memory by removing objects that are no longer in use, so you don’t have to manage memory manually like in C or C++.\n",
        "\n",
        "It mainly works through reference counting plus a cyclic garbage collector for complex cases. The steps of working are:\n",
        "\n",
        "i. Reference counting (primary mechanism)\n",
        "ii. Cyclic garbage collection\n",
        "iii. Generational garbage collection\n",
        "iv.Sumary of workflow\n"
      ],
      "metadata": {
        "id": "PISQXv9wRPZH"
      }
    },
    {
      "cell_type": "markdown",
      "source": [
        "16.  What is the purpose of the else block in exception handling?\n",
        "\n",
        "-> Purpose of else\n",
        "\n",
        "Keeps the \"success path\" separate from error-handling code.\n",
        "\n",
        "Makes code cleaner by avoiding putting normal logic inside try unnecessarily.\n",
        "\n",
        "Runs after the try block and before the finally block (if present)."
      ],
      "metadata": {
        "id": "YZKW8G1cTrdY"
      }
    },
    {
      "cell_type": "markdown",
      "source": [
        "17.  What are the common logging levels in Python?\n",
        "\n",
        "-> The common logging levels in python are debug, info, warning , error , critical"
      ],
      "metadata": {
        "id": "L3LEWMkyUkYO"
      }
    },
    {
      "cell_type": "markdown",
      "source": [
        "18. What is the difference between os.fork() and multiprocessing in Python?\n",
        "\n",
        "-> The main difference between os.fork() and multiprocessing in Python lies in platform support, ease of use, and level of abstraction."
      ],
      "metadata": {
        "id": "FoOouL12VnDk"
      }
    },
    {
      "cell_type": "markdown",
      "source": [
        "19. What is the importance of closing a file in Python?\n",
        "\n",
        "-> Closing a file in Python is important because it frees up system resources and ensures data integrity."
      ],
      "metadata": {
        "id": "K4pU5eWUV0Ki"
      }
    },
    {
      "cell_type": "markdown",
      "source": [
        "20. What is the difference between file.read() and file.readline() in Python?\n",
        "\n",
        "-> **file.read()**\n",
        "\n",
        "i. Reads the entire file (or a specified number of bytes/characters).\n",
        "\n",
        "ii. Returns a single string containing all the data read.\n",
        "\n",
        "iii. If you don’t pass a size, it will read until the end of the file.\n",
        "\n",
        "**file.readline()**\n",
        "\n",
        "i. Reads only one line from the file at a time.\n",
        "\n",
        "ii. A \"line\" ends when it encounters a newline character \\n or end of file.\n",
        "\n",
        "iii. Useful for reading large files line by line without loading everything into memory."
      ],
      "metadata": {
        "id": "fFE3Aa2tWXGr"
      }
    },
    {
      "cell_type": "markdown",
      "source": [
        "21.  What is the logging module in Python used for?\n",
        "\n",
        "-> The logging module in Python is used for recording messages about what your program is doing — from normal operation updates to error reports — in a systematic and configurable way."
      ],
      "metadata": {
        "id": "YQAkg_8oXPwG"
      }
    },
    {
      "cell_type": "markdown",
      "source": [
        "22.What is the os module in Python used for in file handling?\n",
        "\n",
        "->The os module in Python provides functions to interact with the operating system, including many tools for file and directory handling."
      ],
      "metadata": {
        "id": "lxf-o6SWQ_Ub"
      }
    },
    {
      "cell_type": "markdown",
      "source": [
        "23. What are the challenges associated with memory management in Python?\n",
        "\n",
        "-> Key challenges in python memory management are:\n",
        "\n",
        "i. Memory leaks\n",
        "\n",
        "ii.Reference cycle\n",
        "\n",
        "iii. Large object retention\n",
        "\n",
        "iv. Fragmentation\n",
        "\n",
        "v. Long running application"
      ],
      "metadata": {
        "id": "VGBIbWMzZygy"
      }
    },
    {
      "cell_type": "markdown",
      "source": [
        "24.  How do you raise an exception manually in Python?\n",
        "\n",
        "-> In Python, you can raise an exception manually using the raise keyword, followed by an exception class (or an instance of it)."
      ],
      "metadata": {
        "id": "kZujtkIsb3bI"
      }
    },
    {
      "cell_type": "markdown",
      "source": [
        "25.  Why is it important to use multithreading in certain applications?\n",
        "\n",
        "-> Multithreading is important in certain applications because it allows multiple threads to run concurrently within the same process, which can significantly improve performance and responsiveness — especially for I/O-bound tasks."
      ],
      "metadata": {
        "id": "oDXh9x8qcKTg"
      }
    },
    {
      "cell_type": "markdown",
      "source": [
        "#Practical Questions"
      ],
      "metadata": {
        "id": "8Tw2WtimfVPU"
      }
    },
    {
      "cell_type": "markdown",
      "source": [
        "1.  How can you open a file for writing in Python and write a string to it?"
      ],
      "metadata": {
        "id": "3dRfC5rSfYuc"
      }
    },
    {
      "cell_type": "code",
      "source": [
        "# Open file in write mode ('w')\n",
        "file = open(\"example.txt\", \"w\")\n",
        "\n",
        "# Write a string to the file\n",
        "file.write(\"Hello, Python file handling!\")\n",
        "\n",
        "# Close the file to save changes\n",
        "file.close()"
      ],
      "metadata": {
        "id": "QZkgtM7nfsWq"
      },
      "execution_count": null,
      "outputs": []
    },
    {
      "cell_type": "markdown",
      "source": [
        "2. Write a Python program to read the contents of a file and print each line."
      ],
      "metadata": {
        "id": "qNQBeZkCft-b"
      }
    },
    {
      "cell_type": "code",
      "source": [
        "# Open the file in read mode\n",
        "with open(\"example.txt\", \"r\") as file:\n",
        "    for line in file:\n",
        "        # Print each line without adding extra newlines\n",
        "        print(line.strip())"
      ],
      "metadata": {
        "colab": {
          "base_uri": "https://localhost:8080/"
        },
        "id": "3BZRBA5pgSLA",
        "outputId": "99c85a03-cafa-40b4-dddc-589d75bc59ac"
      },
      "execution_count": null,
      "outputs": [
        {
          "output_type": "stream",
          "name": "stdout",
          "text": [
            "Hello, Python file handling!\n"
          ]
        }
      ]
    },
    {
      "cell_type": "markdown",
      "source": [
        "3. How would you handle a case where the file doesn't exist while trying to open it for reading?"
      ],
      "metadata": {
        "id": "7IFs_KYBgXQX"
      }
    },
    {
      "cell_type": "code",
      "source": [
        "filename = \"example.txt\"\n",
        "\n",
        "try:\n",
        "    with open(filename, \"r\") as file:\n",
        "        for line in file:\n",
        "            print(line.strip())\n",
        "except FileNotFoundError:\n",
        "    print(f\"Error: The file '{filename}' was not found.\")"
      ],
      "metadata": {
        "colab": {
          "base_uri": "https://localhost:8080/"
        },
        "id": "Siw9KHYaghYY",
        "outputId": "2ecd6068-e621-4b21-d1cc-ef8e2c7cb828"
      },
      "execution_count": null,
      "outputs": [
        {
          "output_type": "stream",
          "name": "stdout",
          "text": [
            "Hello, Python file handling!\n"
          ]
        }
      ]
    },
    {
      "cell_type": "markdown",
      "source": [
        "4. Write a Python script that reads from one file and writes its content to another file"
      ],
      "metadata": {
        "id": "vOY-uZmHhOUl"
      }
    },
    {
      "cell_type": "code",
      "source": [
        "# File names\n",
        "source_file = \"source.txt\"\n",
        "destination_file = \"destination.txt\"\n",
        "\n",
        "try:\n",
        "    # Open the source file in read mode\n",
        "    with open(source_file, \"r\") as src:\n",
        "        # Read the entire content\n",
        "        content = src.read()\n",
        "\n",
        "    # Open the destination file in write mode\n",
        "    with open(destination_file, \"w\") as dest:\n",
        "        dest.write(content)\n",
        "    print(f\"Contents of '{source_file}' have been copied to '{destination_file}'.\")\n",
        "except FileNotFoundError:\n",
        "    print(f\"Error: The file '{source_file}' was not found.\")"
      ],
      "metadata": {
        "colab": {
          "base_uri": "https://localhost:8080/"
        },
        "id": "hdNUZwpjhemj",
        "outputId": "1f0711a1-5ff1-4f50-fd16-068473d49e51"
      },
      "execution_count": null,
      "outputs": [
        {
          "output_type": "stream",
          "name": "stdout",
          "text": [
            "Error: The file 'source.txt' was not found.\n"
          ]
        }
      ]
    },
    {
      "cell_type": "markdown",
      "source": [
        "5. How would you catch and handle division by zero error in Python?"
      ],
      "metadata": {
        "id": "02NRUbGPhjsE"
      }
    },
    {
      "cell_type": "code",
      "source": [
        "try:\n",
        "    numerator = int(input(\"Enter numerator: \"))\n",
        "    denominator = int(input(\"Enter denominator: \"))\n",
        "\n",
        "    result = numerator / denominator\n",
        "    print(\"Result:\", result)\n",
        "\n",
        "except ZeroDivisionError:\n",
        "    print(\"Error: Division by zero is not allowed.\")"
      ],
      "metadata": {
        "colab": {
          "base_uri": "https://localhost:8080/"
        },
        "id": "c2wc7H5Fh7go",
        "outputId": "65b7054a-f503-4d23-f509-9e8ee2b65004"
      },
      "execution_count": null,
      "outputs": [
        {
          "output_type": "stream",
          "name": "stdout",
          "text": [
            "Enter numerator: 9\n",
            "Enter denominator: 3\n",
            "Result: 3.0\n"
          ]
        }
      ]
    },
    {
      "cell_type": "markdown",
      "source": [
        "6. Write a Python program that logs an error message to a log file when a division by zero exception occurs."
      ],
      "metadata": {
        "id": "BuTESZR0F5Zd"
      }
    },
    {
      "cell_type": "code",
      "source": [
        "import logging\n",
        "\n",
        "# Configure logging\n",
        "logging.basicConfig(filename=\"error_log.txt\",\n",
        "    level=logging.ERROR,format=\"%(asctime)s - %(levelname)s - %(message)s\")\n",
        "\n",
        "try:\n",
        "    num1 = int(input(\"Enter numerator: \"))\n",
        "    num2 = int(input(\"Enter denominator: \"))\n",
        "    result = num1 / num2\n",
        "    print(\"Result:\", result)\n",
        "\n",
        "except ZeroDivisionError as e:\n",
        "    logging.error(\"Division by zero error: %s\", e)\n",
        "    print(\"Error: Cannot divide by zero. Check 'error_log.txt' for details.\")\n"
      ],
      "metadata": {
        "colab": {
          "base_uri": "https://localhost:8080/"
        },
        "id": "iL5myOAnF7vA",
        "outputId": "4646038f-d41f-464c-873c-6ac07fb9d268"
      },
      "execution_count": 1,
      "outputs": [
        {
          "name": "stdout",
          "output_type": "stream",
          "text": [
            "Enter numerator: 33\n",
            "Enter denominator: 0\n"
          ]
        },
        {
          "output_type": "stream",
          "name": "stderr",
          "text": [
            "ERROR:root:Division by zero error: division by zero\n"
          ]
        },
        {
          "output_type": "stream",
          "name": "stdout",
          "text": [
            "Error: Cannot divide by zero. Check 'error_log.txt' for details.\n"
          ]
        }
      ]
    },
    {
      "cell_type": "markdown",
      "source": [
        "7. How do you log information at different levels (INFO, ERROR, WARNING) in Python using the logging module"
      ],
      "metadata": {
        "id": "ZeXLvIFYJjx3"
      }
    },
    {
      "cell_type": "code",
      "source": [
        "# Configure logging\n",
        "logging.basicConfig(filename=\"app.log\", level=logging.DEBUG, format=\"%(asctime)s - %(levelname)s - %(message)s\")\n",
        "\n",
        "# Logging at different levels\n",
        "logging.debug(\"This is a DEBUG message — useful for developers.\")\n",
        "logging.info(\"This is an INFO message — general application info.\")\n",
        "logging.warning(\"This is a WARNING message — something unexpected happened, but still running.\")\n",
        "logging.error(\"This is an ERROR message — an error occurred.\")\n",
        "logging.critical(\"This is a CRITICAL message — serious failure, program may crash.\")"
      ],
      "metadata": {
        "colab": {
          "base_uri": "https://localhost:8080/"
        },
        "id": "pTsRtRqZNKjp",
        "outputId": "6ffae872-5994-4c57-c59a-f632877b3824"
      },
      "execution_count": 2,
      "outputs": [
        {
          "output_type": "stream",
          "name": "stderr",
          "text": [
            "WARNING:root:This is a WARNING message — something unexpected happened, but still running.\n",
            "ERROR:root:This is an ERROR message — an error occurred.\n",
            "CRITICAL:root:This is a CRITICAL message — serious failure, program may crash.\n"
          ]
        }
      ]
    },
    {
      "cell_type": "markdown",
      "source": [
        "8. Write a program to handle a file opening error using exception handling"
      ],
      "metadata": {
        "id": "pzVvwbyZPkyL"
      }
    },
    {
      "cell_type": "code",
      "source": [
        "try:\n",
        "    # Attempt to open the file in read mode\n",
        "    file_name = input(\"Enter the file name: \")\n",
        "    with open(file_name, \"r\") as file:\n",
        "        content = file.read()\n",
        "        print(\"File content:\\n\", content)\n",
        "\n",
        "except FileNotFoundError:\n",
        "    print(f\"Error: The file '{file_name}' was not found.\")\n",
        "\n",
        "except PermissionError:\n",
        "    print(f\"Error: You don't have permission to open '{file_name}'.\")\n",
        "\n",
        "except Exception as e:\n",
        "    print(f\"An unexpected error occurred: {e}\")"
      ],
      "metadata": {
        "id": "zi60wImnQHsK"
      },
      "execution_count": null,
      "outputs": []
    },
    {
      "cell_type": "markdown",
      "source": [
        "9. How can you read a file line by line and store its content in a list in Python"
      ],
      "metadata": {
        "id": "SaeWOID2QN6a"
      }
    },
    {
      "cell_type": "code",
      "source": [
        "# Read file line by line and store in a list\n",
        "file_name = input(\"Enter the file name: \")\n",
        "\n",
        "try:\n",
        "    with open(file_name, \"r\") as file:\n",
        "        lines = file.readlines()  # Returns a list of all lines\n",
        "        # Remove trailing newline characters\n",
        "        lines = [line.strip() for line in lines]\n",
        "\n",
        "    print(\"File contents as a list:\")\n",
        "    print(lines)\n",
        "\n",
        "except FileNotFoundError:\n",
        "    print(f\"Error: File '{file_name}' not found.\")"
      ],
      "metadata": {
        "id": "PK6XPSrLTiVd"
      },
      "execution_count": null,
      "outputs": []
    },
    {
      "cell_type": "markdown",
      "source": [
        "10. How can you append data to an existing file in Python?"
      ],
      "metadata": {
        "id": "yJh43n4jT3E0"
      }
    },
    {
      "cell_type": "code",
      "source": [
        "file_name = \"example.txt\"\n",
        "\n",
        "try:\n",
        "    # Open the file in append mode\n",
        "    with open(file_name, \"a\") as file:\n",
        "        file.write(\"\\nThis is a new line of text.\")\n",
        "\n",
        "    print(f\"Data appended to '{file_name}' successfully.\")\n",
        "\n",
        "except Exception as e:\n",
        "    print(f\"An error occurred: {e}\")"
      ],
      "metadata": {
        "id": "NwJB1AgEUkhe"
      },
      "execution_count": null,
      "outputs": []
    },
    {
      "cell_type": "markdown",
      "source": [
        "11. Write a Python program that uses a try-except block to handle an error when attempting to access a\n",
        "dictionary key that doesn't exist"
      ],
      "metadata": {
        "id": "pJqiysR7U01L"
      }
    },
    {
      "cell_type": "code",
      "source": [
        "# Sample dictionary\n",
        "student = {\n",
        "    \"name\": \"Alice\",\n",
        "    \"age\": 21,\n",
        "    \"course\": \"Computer Science\"\n",
        "}\n",
        "\n",
        "try:\n",
        "    # Ask user for key to access\n",
        "    key = input(\"Enter the key to access: \")\n",
        "    value = student[key]\n",
        "    print(f\"The value for '{key}' is: {value}\")\n",
        "\n",
        "except KeyError:\n",
        "    print(f\"Error: The key '{key}' does not exist in the dictionary.\")"
      ],
      "metadata": {
        "id": "dm1NcBNnU2h-"
      },
      "execution_count": null,
      "outputs": []
    },
    {
      "cell_type": "code",
      "execution_count": null,
      "metadata": {
        "id": "Hsa9A84w70zG"
      },
      "outputs": [],
      "source": []
    }
  ]
}